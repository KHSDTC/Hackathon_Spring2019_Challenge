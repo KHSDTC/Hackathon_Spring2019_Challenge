{
 "cells": [
  {
   "cell_type": "markdown",
   "metadata": {},
   "source": [
    "## Breast Cancer Wisconsin data\n",
    "\n",
    "### Introduction\n",
    "\n",
    "We will be working with the Breast Cancer Wisconsin dataset, which contains 569 samples of __malignent__ and __benign__ tumor cells. The first two columns in the data set store unique ID numbers of the samples and the corresponding real-value features that have been computed from digitized images of the cell nuclei, which can be used to build a model to predict whether a tumor is benign or malignant. \n",
    "\n",
    "For more informationa and data accession please follow to: https://archive.ics.uci.edu/ml/datasets/Breast+Cancer+Wisconsin+(Diagnostic)"
   ]
  },
  {
   "cell_type": "markdown",
   "metadata": {},
   "source": [
    "## Hackathon tasks\n",
    "\n",
    "### Interacting with Python libraries through API\n",
    "\n",
    "Your task is try to grasp the internal structure of Python libraries, how to interact with an API and look-up useful methods for your research.\n",
    "\n",
    "### Plotting\n",
    "\n",
    "Basics of Matloptlib and Seaborn\n",
    "\n",
    "1. Learn how to generate a basic plot.\n",
    "2. Change default Matplotli or Seaborn plotting styles\n",
    "3. Set basic plot attributes, such as labels, titles and colors.\n",
    "4. Save figures as .png format with a certain quality.\n",
    "5. Avoid typing plt.show() and set interactive plotting within IPython \n",
    "6. Change figure dimensions within Ipython.\n",
    "\n",
    "### Data loading and visualisation\n",
    "\n",
    "Your task is understand the nature of the dataset. Can you tell what will give you most predictive power?\n",
    "\n",
    "1. Download and load Breast Cancer Wisconsin dataset.\n",
    "2. Understand what type of data do you have.\n",
    "3. Investigate dataset values by plotting histograms, scatter plots or contour plots.\n",
    "\n",
    "### Correlations\n",
    "\n",
    "Why would you investigate your data using correlation?\n",
    "\n",
    "1. What types of correlation there are?\n",
    "2. Using scipy, calculate two types of correlation between any given two features.\n",
    "3. Calculate pair-wise correlations between dataset features and plot a heatmap using.\n",
    "\n",
    "### Data encoding\n",
    "\n",
    "Why would you want to encode your data labels?\n",
    "\n",
    "### Data preparation\n",
    "\n",
    "Why data preparation is important?\n",
    "\n",
    "1. Why we need training and tests sets?\n",
    "2. Using sklearn, split your data into training and test sets.\n",
    "3. What are data scaling methods?\n",
    "\n",
    "### Dimensionality reduction \n",
    "\n",
    "What data dimensionality reduction can tell about your data?\n",
    "\n",
    "1. What is Principal Component analysis (PCA)?\n",
    "2. Why would you want to use PCA analysis?\n",
    "3. Using sklearn, how do you initialize a PCA model?\n",
    "1. What proportion of your data accounts for the largest variance?\n",
    "2. How scalling affects PCA variance?\n",
    "\n",
    "### Two types of regression\n",
    "\n",
    "Perform two types of regression, name Linear and Logistic.\n",
    "\n",
    "1. What is a regression?\n",
    "2. What are the differences between Linear and Logistic regression?\n",
    "3. Using sklearn, how do you set-up a Random Forest model?\n",
    "3. Why one of them might be better?\n",
    "\n",
    "### Random Forests\n",
    "\n",
    "Investigate the use of Random Trees/Forests for data classification.\n",
    "\n",
    "1. What are Random Forests?\n",
    "2. What are advantages and disadvantages of the method?\n",
    "3. Using sklearn, how do you set-up a Random Forest model?\n",
    "4. Which statistical measures you can use to investigate the performance of Random Forests?\n",
    "5. How do you get feature importance from Random Forests?\n",
    "6. Why would you use Grid Search withing Random Forests?\n",
    "\n",
    "### Too easy?\n",
    "\n",
    "Cross-compare the performance of available classification algorithms and tell which works the best!"
   ]
  },
  {
   "cell_type": "code",
   "execution_count": 1,
   "metadata": {},
   "outputs": [
    {
     "name": "stdout",
     "output_type": "stream",
     "text": [
      "Good luck and have fun!\n"
     ]
    }
   ],
   "source": [
    "def message():\n",
    "    return \"Good luck and have fun!\"\n",
    "\n",
    "print(message())"
   ]
  }
 ],
 "metadata": {
  "kernelspec": {
   "display_name": "Python 3",
   "language": "python",
   "name": "python3"
  },
  "language_info": {
   "codemirror_mode": {
    "name": "ipython",
    "version": 3
   },
   "file_extension": ".py",
   "mimetype": "text/x-python",
   "name": "python",
   "nbconvert_exporter": "python",
   "pygments_lexer": "ipython3",
   "version": "3.5.2"
  }
 },
 "nbformat": 4,
 "nbformat_minor": 2
}
